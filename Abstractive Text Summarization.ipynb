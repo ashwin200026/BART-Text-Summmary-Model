{
 "cells": [
  {
   "cell_type": "code",
   "execution_count": 1,
   "id": "bb2f21d7",
   "metadata": {},
   "outputs": [],
   "source": [
    "#Importing the essential libraries\n",
    "#Beautiful Soup is a Python library for pulling data out of HTML and XML files\n",
    "#The Natural Language Toolkit\n",
    "import requests\n",
    "from bs4 import BeautifulSoup\n",
    "import pandas as pd\n",
    "import numpy as np\n",
    "import matplotlib.pyplot as plt\n",
    "import seaborn as sns\n",
    "import os\n",
    "%matplotlib inline"
   ]
  },
  {
   "cell_type": "code",
   "execution_count": 2,
   "id": "17689945",
   "metadata": {},
   "outputs": [],
   "source": [
    "seed_urls = ['https://inshorts.com/en/read/technology',\n",
    "             'https://inshorts.com/en/read/sports',\n",
    "             'https://inshorts.com/en/read/world']"
   ]
  },
  {
   "cell_type": "code",
   "execution_count": 3,
   "id": "200da0a3",
   "metadata": {},
   "outputs": [],
   "source": [
    "def build_dataset(seed_urls):\n",
    "    news_data = []\n",
    "    for url in seed_urls:\n",
    "        news_category = url.split('/')[-1]\n",
    "        data = requests.get(url)\n",
    "        soup = BeautifulSoup(data.content, 'html.parser')\n",
    "        \n",
    "        news_articles = [{'news_headline': headline.find('span', \n",
    "                                                         attrs={\"itemprop\": \"headline\"}).string,\n",
    "                          'news_article': article.find('div', \n",
    "                                                       attrs={\"itemprop\": \"articleBody\"}).string,\n",
    "                          'news_category': news_category}\n",
    "                         \n",
    "                            for headline, article in \n",
    "                             zip(soup.find_all('div', \n",
    "                                               class_=[\"news-card-title news-right-box\"]),\n",
    "                                 soup.find_all('div', \n",
    "                                               class_=[\"news-card-content news-right-box\"]))\n",
    "                        ]\n",
    "        news_data.extend(news_articles)\n",
    "        \n",
    "    df =  pd.DataFrame(news_data)\n",
    "    df = df[['news_headline', 'news_article', 'news_category']]\n",
    "    return df"
   ]
  },
  {
   "cell_type": "code",
   "execution_count": 4,
   "id": "7af41423",
   "metadata": {},
   "outputs": [
    {
     "data": {
      "text/html": [
       "<div>\n",
       "<style scoped>\n",
       "    .dataframe tbody tr th:only-of-type {\n",
       "        vertical-align: middle;\n",
       "    }\n",
       "\n",
       "    .dataframe tbody tr th {\n",
       "        vertical-align: top;\n",
       "    }\n",
       "\n",
       "    .dataframe thead th {\n",
       "        text-align: right;\n",
       "    }\n",
       "</style>\n",
       "<table border=\"1\" class=\"dataframe\">\n",
       "  <thead>\n",
       "    <tr style=\"text-align: right;\">\n",
       "      <th></th>\n",
       "      <th>news_headline</th>\n",
       "      <th>news_article</th>\n",
       "      <th>news_category</th>\n",
       "    </tr>\n",
       "  </thead>\n",
       "  <tbody>\n",
       "    <tr>\n",
       "      <th>0</th>\n",
       "      <td>Feel bad about inviting my mother to visit Inf...</td>\n",
       "      <td>Infosys Founder NR Narayana Murthy revealed th...</td>\n",
       "      <td>technology</td>\n",
       "    </tr>\n",
       "    <tr>\n",
       "      <th>1</th>\n",
       "      <td>You can film a 'Walking Dead' episode unedited...</td>\n",
       "      <td>World's second-richest person Elon Musk said t...</td>\n",
       "      <td>technology</td>\n",
       "    </tr>\n",
       "    <tr>\n",
       "      <th>2</th>\n",
       "      <td>ISRO successfully tests autonomous landing of ...</td>\n",
       "      <td>The Indian Space Research Organisation (ISRO) ...</td>\n",
       "      <td>technology</td>\n",
       "    </tr>\n",
       "    <tr>\n",
       "      <th>3</th>\n",
       "      <td>First mobile phone call was made 50 years ago ...</td>\n",
       "      <td>American engineer Martin Cooper, widely known ...</td>\n",
       "      <td>technology</td>\n",
       "    </tr>\n",
       "    <tr>\n",
       "      <th>4</th>\n",
       "      <td>Haryana man held for selling data of 70 cr peo...</td>\n",
       "      <td>Cyberabad Police have arrested a Haryana man f...</td>\n",
       "      <td>technology</td>\n",
       "    </tr>\n",
       "    <tr>\n",
       "      <th>...</th>\n",
       "      <td>...</td>\n",
       "      <td>...</td>\n",
       "      <td>...</td>\n",
       "    </tr>\n",
       "    <tr>\n",
       "      <th>70</th>\n",
       "      <td>Pope Francis returns to work a day after hospi...</td>\n",
       "      <td>Pope Francis returned to official duties a day...</td>\n",
       "      <td>world</td>\n",
       "    </tr>\n",
       "    <tr>\n",
       "      <th>71</th>\n",
       "      <td>Thousands protest in Israel over judicial over...</td>\n",
       "      <td>A video showing thousands of Israelis protesti...</td>\n",
       "      <td>world</td>\n",
       "    </tr>\n",
       "    <tr>\n",
       "      <th>72</th>\n",
       "      <td>7 dead as massive storms strike several US sta...</td>\n",
       "      <td>At least seven people have reportedly died aft...</td>\n",
       "      <td>world</td>\n",
       "    </tr>\n",
       "    <tr>\n",
       "      <th>73</th>\n",
       "      <td>Ukraine has nuclear goals: N Korean leader Kim...</td>\n",
       "      <td>Kim Yo Jong, who is the sister of North Korean...</td>\n",
       "      <td>world</td>\n",
       "    </tr>\n",
       "    <tr>\n",
       "      <th>74</th>\n",
       "      <td>Iranian pours yoghurt on 2 women for not weari...</td>\n",
       "      <td>A CCTV camera footage has surfaced online show...</td>\n",
       "      <td>world</td>\n",
       "    </tr>\n",
       "  </tbody>\n",
       "</table>\n",
       "<p>75 rows × 3 columns</p>\n",
       "</div>"
      ],
      "text/plain": [
       "                                        news_headline  \\\n",
       "0   Feel bad about inviting my mother to visit Inf...   \n",
       "1   You can film a 'Walking Dead' episode unedited...   \n",
       "2   ISRO successfully tests autonomous landing of ...   \n",
       "3   First mobile phone call was made 50 years ago ...   \n",
       "4   Haryana man held for selling data of 70 cr peo...   \n",
       "..                                                ...   \n",
       "70  Pope Francis returns to work a day after hospi...   \n",
       "71  Thousands protest in Israel over judicial over...   \n",
       "72  7 dead as massive storms strike several US sta...   \n",
       "73  Ukraine has nuclear goals: N Korean leader Kim...   \n",
       "74  Iranian pours yoghurt on 2 women for not weari...   \n",
       "\n",
       "                                         news_article news_category  \n",
       "0   Infosys Founder NR Narayana Murthy revealed th...    technology  \n",
       "1   World's second-richest person Elon Musk said t...    technology  \n",
       "2   The Indian Space Research Organisation (ISRO) ...    technology  \n",
       "3   American engineer Martin Cooper, widely known ...    technology  \n",
       "4   Cyberabad Police have arrested a Haryana man f...    technology  \n",
       "..                                                ...           ...  \n",
       "70  Pope Francis returned to official duties a day...         world  \n",
       "71  A video showing thousands of Israelis protesti...         world  \n",
       "72  At least seven people have reportedly died aft...         world  \n",
       "73  Kim Yo Jong, who is the sister of North Korean...         world  \n",
       "74  A CCTV camera footage has surfaced online show...         world  \n",
       "\n",
       "[75 rows x 3 columns]"
      ]
     },
     "execution_count": 4,
     "metadata": {},
     "output_type": "execute_result"
    }
   ],
   "source": [
    "news_df = build_dataset(seed_urls)\n",
    "news_df"
   ]
  },
  {
   "cell_type": "code",
   "execution_count": 5,
   "id": "22f80847",
   "metadata": {},
   "outputs": [
    {
     "name": "stdout",
     "output_type": "stream",
     "text": [
      "Requirement already satisfied: datasets in c:\\users\\admin\\anaconda31\\lib\\site-packages (2.11.0)\n",
      "Requirement already satisfied: pyarrow>=8.0.0 in c:\\users\\admin\\anaconda31\\lib\\site-packages (from datasets) (11.0.0)\n",
      "Requirement already satisfied: pyyaml>=5.1 in c:\\users\\admin\\anaconda31\\lib\\site-packages (from datasets) (6.0)\n",
      "Requirement already satisfied: multiprocess in c:\\users\\admin\\anaconda31\\lib\\site-packages (from datasets) (0.70.14)\n",
      "Requirement already satisfied: numpy>=1.17 in c:\\users\\admin\\anaconda31\\lib\\site-packages (from datasets) (1.23.5)\n",
      "Requirement already satisfied: huggingface-hub<1.0.0,>=0.11.0 in c:\\users\\admin\\anaconda31\\lib\\site-packages (from datasets) (0.13.3)\n",
      "Requirement already satisfied: requests>=2.19.0 in c:\\users\\admin\\anaconda31\\lib\\site-packages (from datasets) (2.28.1)\n",
      "Requirement already satisfied: xxhash in c:\\users\\admin\\anaconda31\\lib\\site-packages (from datasets) (3.2.0)\n",
      "Requirement already satisfied: fsspec[http]>=2021.11.1 in c:\\users\\admin\\anaconda31\\lib\\site-packages (from datasets) (2022.11.0)\n",
      "Requirement already satisfied: pandas in c:\\users\\admin\\anaconda31\\lib\\site-packages (from datasets) (1.5.3)\n",
      "Requirement already satisfied: responses<0.19 in c:\\users\\admin\\anaconda31\\lib\\site-packages (from datasets) (0.18.0)\n",
      "Requirement already satisfied: packaging in c:\\users\\admin\\anaconda31\\lib\\site-packages (from datasets) (22.0)\n",
      "Requirement already satisfied: aiohttp in c:\\users\\admin\\anaconda31\\lib\\site-packages (from datasets) (3.8.4)\n",
      "Requirement already satisfied: dill<0.3.7,>=0.3.0 in c:\\users\\admin\\anaconda31\\lib\\site-packages (from datasets) (0.3.6)\n",
      "Requirement already satisfied: tqdm>=4.62.1 in c:\\users\\admin\\anaconda31\\lib\\site-packages (from datasets) (4.64.1)\n",
      "Requirement already satisfied: yarl<2.0,>=1.0 in c:\\users\\admin\\anaconda31\\lib\\site-packages (from aiohttp->datasets) (1.8.2)\n",
      "Requirement already satisfied: attrs>=17.3.0 in c:\\users\\admin\\anaconda31\\lib\\site-packages (from aiohttp->datasets) (22.1.0)\n",
      "Requirement already satisfied: multidict<7.0,>=4.5 in c:\\users\\admin\\anaconda31\\lib\\site-packages (from aiohttp->datasets) (6.0.4)\n",
      "Requirement already satisfied: async-timeout<5.0,>=4.0.0a3 in c:\\users\\admin\\anaconda31\\lib\\site-packages (from aiohttp->datasets) (4.0.2)\n",
      "Requirement already satisfied: frozenlist>=1.1.1 in c:\\users\\admin\\anaconda31\\lib\\site-packages (from aiohttp->datasets) (1.3.3)\n",
      "Requirement already satisfied: aiosignal>=1.1.2 in c:\\users\\admin\\anaconda31\\lib\\site-packages (from aiohttp->datasets) (1.3.1)\n",
      "Requirement already satisfied: charset-normalizer<4.0,>=2.0 in c:\\users\\admin\\anaconda31\\lib\\site-packages (from aiohttp->datasets) (2.0.4)\n",
      "Requirement already satisfied: typing-extensions>=3.7.4.3 in c:\\users\\admin\\anaconda31\\lib\\site-packages (from huggingface-hub<1.0.0,>=0.11.0->datasets) (4.4.0)\n",
      "Requirement already satisfied: filelock in c:\\users\\admin\\anaconda31\\lib\\site-packages (from huggingface-hub<1.0.0,>=0.11.0->datasets) (3.9.0)\n",
      "Requirement already satisfied: certifi>=2017.4.17 in c:\\users\\admin\\anaconda31\\lib\\site-packages (from requests>=2.19.0->datasets) (2022.12.7)\n",
      "Requirement already satisfied: urllib3<1.27,>=1.21.1 in c:\\users\\admin\\anaconda31\\lib\\site-packages (from requests>=2.19.0->datasets) (1.26.14)\n",
      "Requirement already satisfied: idna<4,>=2.5 in c:\\users\\admin\\anaconda31\\lib\\site-packages (from requests>=2.19.0->datasets) (3.4)\n",
      "Requirement already satisfied: colorama in c:\\users\\admin\\anaconda31\\lib\\site-packages (from tqdm>=4.62.1->datasets) (0.4.6)\n",
      "Requirement already satisfied: pytz>=2020.1 in c:\\users\\admin\\anaconda31\\lib\\site-packages (from pandas->datasets) (2022.7)\n",
      "Requirement already satisfied: python-dateutil>=2.8.1 in c:\\users\\admin\\anaconda31\\lib\\site-packages (from pandas->datasets) (2.8.2)\n",
      "Requirement already satisfied: six>=1.5 in c:\\users\\admin\\anaconda31\\lib\\site-packages (from python-dateutil>=2.8.1->pandas->datasets) (1.16.0)\n",
      "Note: you may need to restart the kernel to use updated packages.\n"
     ]
    }
   ],
   "source": [
    "pip install datasets"
   ]
  },
  {
   "cell_type": "code",
   "execution_count": 6,
   "id": "2039a518",
   "metadata": {},
   "outputs": [
    {
     "name": "stderr",
     "output_type": "stream",
     "text": [
      "Found cached dataset multi_news (C:/Users/Admin/.cache/huggingface/datasets/multi_news/default/1.0.0/2f1f69a2bedc8ad1c5d8ae5148e4755ee7095f465c1c01ae8f85454342065a72)\n"
     ]
    },
    {
     "data": {
      "application/vnd.jupyter.widget-view+json": {
       "model_id": "3676238c3a334481873cb8a5069a3c34",
       "version_major": 2,
       "version_minor": 0
      },
      "text/plain": [
       "  0%|          | 0/3 [00:00<?, ?it/s]"
      ]
     },
     "metadata": {},
     "output_type": "display_data"
    },
    {
     "name": "stdout",
     "output_type": "stream",
     "text": [
      "DatasetDict({\n",
      "    train: Dataset({\n",
      "        features: ['document', 'summary'],\n",
      "        num_rows: 44972\n",
      "    })\n",
      "    validation: Dataset({\n",
      "        features: ['document', 'summary'],\n",
      "        num_rows: 5622\n",
      "    })\n",
      "    test: Dataset({\n",
      "        features: ['document', 'summary'],\n",
      "        num_rows: 5622\n",
      "    })\n",
      "})\n"
     ]
    }
   ],
   "source": [
    "from datasets import load_dataset\n",
    "datasets = load_dataset('multi_news')\n",
    "print(datasets)"
   ]
  },
  {
   "cell_type": "code",
   "execution_count": 7,
   "id": "cba35985",
   "metadata": {},
   "outputs": [
    {
     "data": {
      "text/plain": [
       "DatasetDict({\n",
       "    train: Dataset({\n",
       "        features: ['document', 'summary'],\n",
       "        num_rows: 44972\n",
       "    })\n",
       "    validation: Dataset({\n",
       "        features: ['document', 'summary'],\n",
       "        num_rows: 5622\n",
       "    })\n",
       "    test: Dataset({\n",
       "        features: ['document', 'summary'],\n",
       "        num_rows: 5622\n",
       "    })\n",
       "})"
      ]
     },
     "execution_count": 7,
     "metadata": {},
     "output_type": "execute_result"
    }
   ],
   "source": [
    "datasets"
   ]
  },
  {
   "cell_type": "code",
   "execution_count": 8,
   "id": "3eab44fc",
   "metadata": {},
   "outputs": [
    {
     "name": "stdout",
     "output_type": "stream",
     "text": [
      "Features: ['document', 'summary']\n"
     ]
    }
   ],
   "source": [
    "print(f\"Features: {datasets['train'].column_names}\")"
   ]
  },
  {
   "cell_type": "code",
   "execution_count": 9,
   "id": "bdf230f9",
   "metadata": {},
   "outputs": [
    {
     "name": "stdout",
     "output_type": "stream",
     "text": [
      "Document (excerpt of 2000 characters, total length: 5353):\n",
      "LOS ANGELES (AP) — In her first interview since the NBA banned her estranged husband, Shelly Sterling says she will fight to keep her share of the Los Angeles Clippers and plans one day to divorce Donald Sterling. \n",
      " \n",
      " (Click Prev or Next to continue viewing images.) \n",
      " \n",
      " ADVERTISEMENT (Click Prev or Next to continue viewing images.) \n",
      " \n",
      " Los Angeles Clippers co-owner Shelly Sterling, below, watches the Clippers play the Oklahoma City Thunder along with her attorney, Pierce O'Donnell, in the first half of Game 3 of the Western Conference... (Associated Press) \n",
      " \n",
      " Shelly Sterling spoke to Barbara Walters, and ABC News posted a short story with excerpts from the conversation Sunday. \n",
      " \n",
      " NBA Commissioner Adam Silver has banned Donald Sterling for making racist comments and urged owners to force Sterling to sell the team. Silver added that no decisions had been made about the rest of Sterling's family. \n",
      " \n",
      " According to ABC's story, Shelly Sterling told Walters: \"I will fight that decision.\" \n",
      " \n",
      " Sterling also said that she \"eventually\" will divorce her husband, and that she hadn't yet done so due to financial considerations. ||||| Shelly Sterling said today that \"eventually, I am going to\" divorce her estranged husband, Donald Sterling, and if the NBA tries to force her to sell her half of the Los Angeles Clippers, she would \"absolutely\" fight to keep her stake in the team. \n",
      " \n",
      " \"I will fight that decision,\" she told ABC News' Barbara Walters today in an exclusive interview. \"To be honest with you, I'm wondering if a wife of one of the owners, and there's 30 owners, did something like that, said those racial slurs, would they oust the husband? Or would they leave the husband in?\" \n",
      " \n",
      " Sterling added that the Clippers franchise is her \"passion\" and \"legacy to my family.\" \n",
      " \n",
      " \"I've been with the team for 33 years, through the good times and the bad times,\" she added. \n",
      " \n",
      " These comments come nearly two weeks after NBA Commissioner Adam Silver announced a lifetime ban and a $2.5 \n",
      "\n",
      "Summary (length: 501):\n",
      "– Shelly Sterling plans \"eventually\" to divorce her estranged husband Donald, she tells Barbara Walters at ABC News. As for her stake in the Los Angeles Clippers, she plans to keep it, the AP notes. Sterling says she would \"absolutely\" fight any NBA decision to force her to sell the team. The team is her \"legacy\" to her family, she says. \"To be honest with you, I'm wondering if a wife of one of the owners … said those racial slurs, would they oust the husband? Or would they leave the husband in?\"\n"
     ]
    }
   ],
   "source": [
    "sample = datasets[\"train\"][1]\n",
    "print(f\"\"\"Document (excerpt of 2000 characters, total length: {len(sample[\"document\"])}):\"\"\")\n",
    "print(sample[\"document\"][:2000])\n",
    "print(f'\\nSummary (length: {len(sample[\"summary\"])}):')\n",
    "print(sample[\"summary\"])"
   ]
  },
  {
   "cell_type": "code",
   "execution_count": 10,
   "id": "710593c9",
   "metadata": {},
   "outputs": [
    {
     "name": "stdout",
     "output_type": "stream",
     "text": [
      "Requirement already satisfied: transformers in c:\\users\\admin\\anaconda31\\lib\\site-packages (4.24.0)\n",
      "Requirement already satisfied: requests in c:\\users\\admin\\anaconda31\\lib\\site-packages (from transformers) (2.28.1)\n",
      "Requirement already satisfied: filelock in c:\\users\\admin\\anaconda31\\lib\\site-packages (from transformers) (3.9.0)\n",
      "Requirement already satisfied: numpy>=1.17 in c:\\users\\admin\\anaconda31\\lib\\site-packages (from transformers) (1.23.5)\n",
      "Requirement already satisfied: tokenizers!=0.11.3,<0.14,>=0.11.1 in c:\\users\\admin\\anaconda31\\lib\\site-packages (from transformers) (0.11.4)\n",
      "Requirement already satisfied: pyyaml>=5.1 in c:\\users\\admin\\anaconda31\\lib\\site-packages (from transformers) (6.0)\n",
      "Requirement already satisfied: tqdm>=4.27 in c:\\users\\admin\\anaconda31\\lib\\site-packages (from transformers) (4.64.1)\n",
      "Requirement already satisfied: regex!=2019.12.17 in c:\\users\\admin\\anaconda31\\lib\\site-packages (from transformers) (2022.7.9)\n",
      "Requirement already satisfied: huggingface-hub<1.0,>=0.10.0 in c:\\users\\admin\\anaconda31\\lib\\site-packages (from transformers) (0.13.3)\n",
      "Requirement already satisfied: packaging>=20.0 in c:\\users\\admin\\anaconda31\\lib\\site-packages (from transformers) (22.0)\n",
      "Requirement already satisfied: typing-extensions>=3.7.4.3 in c:\\users\\admin\\anaconda31\\lib\\site-packages (from huggingface-hub<1.0,>=0.10.0->transformers) (4.4.0)\n",
      "Requirement already satisfied: colorama in c:\\users\\admin\\anaconda31\\lib\\site-packages (from tqdm>=4.27->transformers) (0.4.6)\n",
      "Requirement already satisfied: idna<4,>=2.5 in c:\\users\\admin\\anaconda31\\lib\\site-packages (from requests->transformers) (3.4)\n",
      "Requirement already satisfied: urllib3<1.27,>=1.21.1 in c:\\users\\admin\\anaconda31\\lib\\site-packages (from requests->transformers) (1.26.14)\n",
      "Requirement already satisfied: certifi>=2017.4.17 in c:\\users\\admin\\anaconda31\\lib\\site-packages (from requests->transformers) (2022.12.7)\n",
      "Requirement already satisfied: charset-normalizer<3,>=2 in c:\\users\\admin\\anaconda31\\lib\\site-packages (from requests->transformers) (2.0.4)\n",
      "Note: you may need to restart the kernel to use updated packages.\n"
     ]
    }
   ],
   "source": [
    "pip install transformers"
   ]
  },
  {
   "cell_type": "code",
   "execution_count": 11,
   "id": "f2f3d1df",
   "metadata": {},
   "outputs": [
    {
     "name": "stdout",
     "output_type": "stream",
     "text": [
      "tensor([[0.9708, 0.3001, 0.6375],\n",
      "        [0.1979, 0.1873, 0.8440],\n",
      "        [0.2944, 0.0776, 0.0990],\n",
      "        [0.9178, 0.8415, 0.2040],\n",
      "        [0.0657, 0.9386, 0.1385]])\n"
     ]
    }
   ],
   "source": [
    "#just to check\n",
    "import torch\n",
    "x = torch.rand(5, 3)\n",
    "print(x)"
   ]
  },
  {
   "cell_type": "code",
   "execution_count": 12,
   "id": "3ccc6dd4",
   "metadata": {},
   "outputs": [],
   "source": [
    "#Using BART for summarization\n",
    "from transformers import BartForConditionalGeneration, AutoTokenizer\n",
    "model_ckpt = \"sshleifer/distilbart-cnn-6-6\"\n",
    "tokenizer = AutoTokenizer.from_pretrained(model_ckpt)\n",
    "model = BartForConditionalGeneration.from_pretrained(model_ckpt)"
   ]
  },
  {
   "cell_type": "code",
   "execution_count": 13,
   "id": "acd161a2",
   "metadata": {},
   "outputs": [
    {
     "name": "stderr",
     "output_type": "stream",
     "text": [
      "Token indices sequence length is longer than the specified maximum sequence length for this model (2331 > 1024). Running this sequence through the model will result in indexing errors\n"
     ]
    }
   ],
   "source": [
    "#Fine-Tuning BART\n",
    "d_len = [len(tokenizer.encode(s)) for s in datasets[\"validation\"][\"document\"]]\n",
    "s_len = [len(tokenizer.encode(s)) for s in datasets[\"validation\"][\"summary\"]]"
   ]
  },
  {
   "cell_type": "code",
   "execution_count": 14,
   "id": "052dd564",
   "metadata": {},
   "outputs": [
    {
     "data": {
      "image/png": "[encoded data removed]",
      "text/plain": [
       "<Figure size 1000x350 with 2 Axes>"
      ]
     },
     "metadata": {},
     "output_type": "display_data"
    }
   ],
   "source": [
    "fig, axes = plt.subplots(1, 2, figsize=(10, 3.5), sharey=True)\n",
    "axes[0].hist(d_len, bins=20, color=\"C0\", edgecolor=\"C0\")\n",
    "axes[0].set_title(\"Document Token Length\")\n",
    "axes[0].set_xlabel(\"Length\")\n",
    "axes[0].set_ylabel(\"Count\")\n",
    "axes[1].hist(s_len, bins=20, color=\"C0\", edgecolor=\"C0\")\n",
    "axes[1].set_title(\"Summary Token Length\")\n",
    "axes[1].set_xlabel(\"Length\")\n",
    "plt.tight_layout()\n",
    "plt.show()"
   ]
  },
  {
   "cell_type": "code",
   "execution_count": 15,
   "id": "9fbf6009",
   "metadata": {},
   "outputs": [
    {
     "name": "stderr",
     "output_type": "stream",
     "text": [
      "Loading cached processed dataset at C:\\Users\\Admin\\.cache\\huggingface\\datasets\\multi_news\\default\\1.0.0\\2f1f69a2bedc8ad1c5d8ae5148e4755ee7095f465c1c01ae8f85454342065a72\\cache-4d9383b89a703e80.arrow\n",
      "Loading cached processed dataset at C:\\Users\\Admin\\.cache\\huggingface\\datasets\\multi_news\\default\\1.0.0\\2f1f69a2bedc8ad1c5d8ae5148e4755ee7095f465c1c01ae8f85454342065a72\\cache-0cb0792bd12db974.arrow\n"
     ]
    },
    {
     "data": {
      "application/vnd.jupyter.widget-view+json": {
       "model_id": "",
       "version_major": 2,
       "version_minor": 0
      },
      "text/plain": [
       "Map:   0%|          | 0/5622 [00:00<?, ? examples/s]"
      ]
     },
     "metadata": {},
     "output_type": "display_data"
    },
    {
     "name": "stderr",
     "output_type": "stream",
     "text": [
      "C:\\Users\\Admin\\anaconda31\\lib\\site-packages\\transformers\\tokenization_utils_base.py:3546: UserWarning: `as_target_tokenizer` is deprecated and will be removed in v5 of Transformers. You can tokenize your labels by using the argument `text_target` of the regular `__call__` method (either in the same call as your input texts if you use the same keyword arguments, or in a separate call.\n",
      "  warnings.warn(\n"
     ]
    }
   ],
   "source": [
    "def convert_examples_to_features(example_batch):\n",
    "    input_encodings = tokenizer(example_batch[\"document\"], max_length=1024, truncation=True)\n",
    "    \n",
    "    with tokenizer.as_target_tokenizer():\n",
    "        target_encodings = tokenizer(example_batch[\"summary\"], max_length=256, truncation=True)\n",
    "        \n",
    "    return {\"input_ids\": input_encodings[\"input_ids\"], \n",
    "           \"attention_mask\": input_encodings[\"attention_mask\"], \n",
    "           \"labels\": target_encodings[\"input_ids\"]}\n",
    "dataset_pt = datasets.map(convert_examples_to_features, batched=True)"
   ]
  },
  {
   "cell_type": "code",
   "execution_count": 16,
   "id": "145ddffc",
   "metadata": {},
   "outputs": [],
   "source": [
    "from transformers import DataCollatorForSeq2Seq\n",
    "seq2seq_data_collator = DataCollatorForSeq2Seq(tokenizer, model=model)"
   ]
  },
  {
   "cell_type": "code",
   "execution_count": 17,
   "id": "81ea0de2",
   "metadata": {},
   "outputs": [],
   "source": [
    "from transformers import TrainingArguments, Trainer\n",
    "training_args = TrainingArguments(output_dir='bart-multi-news', num_train_epochs=1, warmup_steps=500,                                  per_device_train_batch_size=1, per_device_eval_batch_size=1, weight_decay=0.01, logging_steps=10, push_to_hub=False, \n",
    "evaluation_strategy='steps', eval_steps=500, save_steps=1e6, \n",
    "gradient_accumulation_steps=16)"
   ]
  },
  {
   "cell_type": "code",
   "execution_count": 18,
   "id": "f3d94f31",
   "metadata": {},
   "outputs": [
    {
     "name": "stderr",
     "output_type": "stream",
     "text": [
      "The following columns in the training set don't have a corresponding argument in `BartForConditionalGeneration.forward` and have been ignored: document, summary. If document, summary are not expected by `BartForConditionalGeneration.forward`,  you can safely ignore this message.\n",
      "C:\\Users\\Admin\\anaconda31\\lib\\site-packages\\transformers\\optimization.py:306: FutureWarning: This implementation of AdamW is deprecated and will be removed in a future version. Use the PyTorch implementation torch.optim.AdamW instead, or set `no_deprecation_warning=True` to disable this warning\n",
      "  warnings.warn(\n",
      "***** Running training *****\n",
      "  Num examples = 44972\n",
      "  Num Epochs = 1\n",
      "  Instantaneous batch size per device = 1\n",
      "  Total train batch size (w. parallel, distributed & accumulation) = 16\n",
      "  Gradient Accumulation steps = 16\n",
      "  Total optimization steps = 2810\n",
      "  Number of trainable parameters = 229933056\n",
      "You're using a BartTokenizerFast tokenizer. Please note that with a fast tokenizer, using the `__call__` method is faster than using a method to encode the text followed by a call to the `pad` method to get a padded encoding.\n"
     ]
    },
    {
     "data": {
      "text/html": [
       "\n",
       "    <div>\n",
       "      \n",
       "      <progress value='2810' max='2810' style='width:300px; height:20px; vertical-align: middle;'></progress>\n",
       "      [2810/2810 87:08:03, Epoch 0/1]\n",
       "    </div>\n",
       "    <table border=\"1\" class=\"dataframe\">\n",
       "  <thead>\n",
       " <tr style=\"text-align: left;\">\n",
       "      <th>Step</th>\n",
       "      <th>Training Loss</th>\n",
       "      <th>Validation Loss</th>\n",
       "    </tr>\n",
       "  </thead>\n",
       "  <tbody>\n",
       "    <tr>\n",
       "      <td>500</td>\n",
       "      <td>2.660400</td>\n",
       "      <td>2.572480</td>\n",
       "    </tr>\n",
       "    <tr>\n",
       "      <td>1000</td>\n",
       "      <td>2.650700</td>\n",
       "      <td>2.483058</td>\n",
       "    </tr>\n",
       "    <tr>\n",
       "      <td>1500</td>\n",
       "      <td>2.599700</td>\n",
       "      <td>2.445455</td>\n",
       "    </tr>\n",
       "    <tr>\n",
       "      <td>2000</td>\n",
       "      <td>2.474900</td>\n",
       "      <td>2.419706</td>\n",
       "    </tr>\n",
       "    <tr>\n",
       "      <td>2500</td>\n",
       "      <td>2.484600</td>\n",
       "      <td>2.412487</td>\n",
       "    </tr>\n",
       "  </tbody>\n",
       "</table><p>"
      ],
      "text/plain": [
       "<IPython.core.display.HTML object>"
      ]
     },
     "metadata": {},
     "output_type": "display_data"
    },
    {
     "name": "stderr",
     "output_type": "stream",
     "text": [
      "The following columns in the evaluation set don't have a corresponding argument in `BartForConditionalGeneration.forward` and have been ignored: document, summary. If document, summary are not expected by `BartForConditionalGeneration.forward`,  you can safely ignore this message.\n",
      "***** Running Evaluation *****\n",
      "  Num examples = 5622\n",
      "  Batch size = 1\n",
      "The following columns in the evaluation set don't have a corresponding argument in `BartForConditionalGeneration.forward` and have been ignored: document, summary. If document, summary are not expected by `BartForConditionalGeneration.forward`,  you can safely ignore this message.\n",
      "***** Running Evaluation *****\n",
      "  Num examples = 5622\n",
      "  Batch size = 1\n",
      "The following columns in the evaluation set don't have a corresponding argument in `BartForConditionalGeneration.forward` and have been ignored: document, summary. If document, summary are not expected by `BartForConditionalGeneration.forward`,  you can safely ignore this message.\n",
      "***** Running Evaluation *****\n",
      "  Num examples = 5622\n",
      "  Batch size = 1\n",
      "The following columns in the evaluation set don't have a corresponding argument in `BartForConditionalGeneration.forward` and have been ignored: document, summary. If document, summary are not expected by `BartForConditionalGeneration.forward`,  you can safely ignore this message.\n",
      "***** Running Evaluation *****\n",
      "  Num examples = 5622\n",
      "  Batch size = 1\n",
      "The following columns in the evaluation set don't have a corresponding argument in `BartForConditionalGeneration.forward` and have been ignored: document, summary. If document, summary are not expected by `BartForConditionalGeneration.forward`,  you can safely ignore this message.\n",
      "***** Running Evaluation *****\n",
      "  Num examples = 5622\n",
      "  Batch size = 1\n",
      "\n",
      "\n",
      "Training completed. Do not forget to share your model on huggingface.co/models =)\n",
      "\n",
      "\n"
     ]
    },
    {
     "data": {
      "text/plain": [
       "TrainOutput(global_step=2810, training_loss=2.5858149321478034, metrics={'train_runtime': 313776.0493, 'train_samples_per_second': 0.143, 'train_steps_per_second': 0.009, 'total_flos': 4.541187731292979e+16, 'train_loss': 2.5858149321478034, 'epoch': 1.0})"
      ]
     },
     "execution_count": 18,
     "metadata": {},
     "output_type": "execute_result"
    }
   ],
   "source": [
    "trainer = Trainer(model=model, args=training_args, tokenizer=tokenizer, data_collator=seq2seq_data_collator, train_dataset=dataset_pt[\"train\"],eval_dataset=dataset_pt[\"validation\"])\n",
    "trainer.train()"
   ]
  },
  {
   "cell_type": "code",
   "execution_count": 20,
   "id": "2632440c",
   "metadata": {},
   "outputs": [
    {
     "name": "stdout",
     "output_type": "stream",
     "text": [
      "Document:\n",
      "\n",
      " \n",
      " \n",
      " \n",
      " UPDATE: 4/19/2001 Read Richard Metzger: How I, a married, middle-aged man, became an accidental spokesperson for gay rights overnight on Boing Boing \n",
      " \n",
      " It’s time to clarify a few details about the controversial “Hey Facebook what’s SO wrong with a pic of two men kissing?” story, as it now beginning to be reported in the mainstream media, and not always correctly. \n",
      " \n",
      " First of all, with regards to the picture: \n",
      " \n",
      " The photo which was used to illustrate my first post about the John Snow Kiss-In is a promotional still from the British soap opera “Eastenders.” It features one of the main characters from the show (Christian Clarke, played by the actor John Partridge- left) and someone else who I don’t know. I am not a regular viewer so I can’t say if the man on the right is an extra or an actual character. \n",
      " \n",
      " This picture has itself caused scandal in the UK, as it was a gay kiss that was broadcast before the watershed, and as such led to a number of complaints to the BBC. However, since this episode aired (October 2008) Christian now has a boyfriend and a few more gay kisses have taken place. \n",
      " \n",
      " In relation to the John Snow Kiss-In event, I used this particular photo because I considered it to be quite mild (no groping, no tongues). The photos I had considered using before I chose that one are much more racy. Oh the irony! \n",
      " \n",
      " Secondly, the removal of the Facebook John Snow Kiss-In event: \n",
      " \n",
      " It turns out that the Facebook event for the John Snow Kiss-In was not blocked by Facebook, but made private by the creator of the event itself. Paul Shetler, the organizer, left this comment on the previous thread: \n",
      " \n",
      " “Hey I just saw this. Before it goes too far, I just want people to know that FB have NOT removed the kiss-in event page; it’s still there, but _I made the event private after the event_ was over and only visible to those who had been invited as there were starting to be trolls posting abusive nonsense on it.” \n",
      " \n",
      " Thanks for clearing that up, Paul. Now if Facebook will only reply to Richard’s query about why they removed my original post and photo when he put it up on his wall… \n",
      " \n",
      " It has been erroneously reported in the media that our own Richard Metzger (who lives in Los Angeles) organized the London “Kiss-In” event, which is untrue, and also unfair to Paul Shetler and the actual organizers. Also, Richard did not state in his post that Facebook HAD taken the event page down, he just questioned IF this was the case and IF there was a connection with MY post about the event being removed from his own wall. This seems to have confused some people. \n",
      " \n",
      " Here is a report on the John Snow Kiss-In from the Guardian, featuring an interview with Mr Shetler: \n",
      " \n",
      " ||||| || News || \n",
      " \n",
      " Page 1 of 1 \n",
      " \n",
      " \n",
      " \n",
      " \n",
      " \n",
      " UPDATED: A photo of two men kissing that was posted on a Facebook page protesting a London pub’s decision to eject a same-sex couple for kissing has been removed by the social networking site, an error, according to a rep for the company. \n",
      " \n",
      " \n",
      " \n",
      " \"The photo in question does not violate our Statement of Rights and Responsibilities and was removed in error,\" the statement, obtained by America Blog, says. We apologize for the inconvenience\" \n",
      " \n",
      " \n",
      " \n",
      " The Dangerous Minds Facebook page was set up to promote a “gay kiss-in” demonstration in London to protest the pub. The page used a photo of two men kissing to promote the event. \n",
      " \n",
      " According to NYULocal.com, the photo was quickly removed and the following e-mail was sent to administrators of the Facebook page: “Shares that contain nudity, or any kind of graphic or sexually suggestive content, are not permitted on Facebook.” \n",
      " \n",
      " \n",
      " \n",
      " The decision to remove the photo has prompted scores of people to post their own pictures of same-sex couples kissing in protest — dozens in the last few hours alone.\n",
      "\n",
      "Reference Summary:\n",
      "– It turns out Facebook is only guilty of about half of what it’s been accused of in the gay kiss incident. The social networking site apologized yesterday for taking down an image used to promote a “kiss-in” event in London. “The photo in question does not violate our Statement of Rights and Responsibilities, and was removed in error,” the site said in a statement, according to the Advocate. But Facebook did not, as has been reported in several places, take down the kiss-in event itself. Here’s what happened: The photo Facebook took down was posted by the Dangerous Minds blog to promote the event. In its initial write-up about the incident, the blog observed that the page organizing the protest had been taken down. But it was actually the organizer himself who \"removed\" the event, Dangerous Minds clarified. Organizer Paul Shetler explains that he decided to switch it from a public event to a private one, as \"there were starting to be trolls posting abusive nonsense on it.\"\n"
     ]
    }
   ],
   "source": [
    "\n",
    "#Generating Multi-Document Summaries\n",
    "sample_text = datasets[\"test\"][1][\"document\"]\n",
    "reference = datasets[\"test\"][1][\"summary\"]\n",
    "print(\"Document:\")\n",
    "print(sample_text)\n",
    "print(\"\\nReference Summary:\")\n",
    "print(reference)"
   ]
  },
  {
   "cell_type": "code",
   "execution_count": 23,
   "id": "1251c87e",
   "metadata": {},
   "outputs": [],
   "source": [
    "input_ids = tokenizer(sample_text, max_length=1024, truncation=True, padding='max_length', return_tensors='pt').to(device)"
   ]
  },
  {
   "cell_type": "code",
   "execution_count": null,
   "id": "18a37989",
   "metadata": {},
   "outputs": [],
   "source": [
    "#Extra for Decive error"
   ]
  },
  {
   "cell_type": "code",
   "execution_count": 22,
   "id": "10f541b9",
   "metadata": {},
   "outputs": [],
   "source": [
    "import torch\n",
    "\n",
    "# Check if a GPU is available\n",
    "if torch.cuda.is_available():\n",
    "    device = torch.device(\"cuda\")\n",
    "else:\n",
    "    device = torch.device(\"cpu\")\n"
   ]
  },
  {
   "cell_type": "code",
   "execution_count": null,
   "id": "9787adb6",
   "metadata": {},
   "outputs": [],
   "source": [
    "#Extra done"
   ]
  },
  {
   "cell_type": "code",
   "execution_count": 24,
   "id": "93c011bb",
   "metadata": {},
   "outputs": [],
   "source": [
    "summaries = model.generate(input_ids=input_ids['input_ids'], attention_mask=input_ids['attention_mask'],max_length=256)"
   ]
  },
  {
   "cell_type": "code",
   "execution_count": 25,
   "id": "c690bd12",
   "metadata": {},
   "outputs": [],
   "source": [
    "decoded_summaries = [tokenizer.decode(s, skip_special_tokens=True, clean_up_tokenization_spaces=True) for s in summaries]"
   ]
  },
  {
   "cell_type": "code",
   "execution_count": 26,
   "id": "2c0a94b2",
   "metadata": {},
   "outputs": [
    {
     "name": "stdout",
     "output_type": "stream",
     "text": [
      "\n",
      "Reference Summary:\n",
      "– It turns out Facebook is only guilty of about half of what it’s been accused of in the gay kiss incident. The social networking site apologized yesterday for taking down an image used to promote a “kiss-in” event in London. “The photo in question does not violate our Statement of Rights and Responsibilities, and was removed in error,” the site said in a statement, according to the Advocate. But Facebook did not, as has been reported in several places, take down the kiss-in event itself. Here’s what happened: The photo Facebook took down was posted by the Dangerous Minds blog to promote the event. In its initial write-up about the incident, the blog observed that the page organizing the protest had been taken down. But it was actually the organizer himself who \"removed\" the event, Dangerous Minds clarified. Organizer Paul Shetler explains that he decided to switch it from a public event to a private one, as \"there were starting to be trolls posting abusive nonsense on it.\"\n",
      "\n",
      "Model Summary:\n",
      "– Facebook has removed a photo of two men kissing in London to protest a pub's decision to eject a same-sex couple for kissing, reports the Guardian. \"The photo in question does not violate our Statement of Rights and Responsibilities and was removed in error,\" the company says in a statement. \"We apologize for the inconvenience.\" The Facebook page was set up to promote a \"gay kiss-in\" demonstration in London, and the photo was quickly removed and the following e-mail was sent to administrators of Facebook. The decision to remove the photo has prompted scores of people to post their own own pictures of same sex couples kissing in protest—dozens in the last few hours alone.\n"
     ]
    }
   ],
   "source": [
    "print(\"\\nReference Summary:\")\n",
    "print(reference)\n",
    "print(\"\\nModel Summary:\")\n",
    "print(decoded_summaries[0])"
   ]
  },
  {
   "cell_type": "code",
   "execution_count": 5,
   "id": "fd93d90a",
   "metadata": {},
   "outputs": [
    {
     "name": "stderr",
     "output_type": "stream",
     "text": [
      "Exception in Tkinter callback\n",
      "Traceback (most recent call last):\n",
      "  File \"C:\\Users\\Admin\\anaconda31\\lib\\tkinter\\__init__.py\", line 1921, in __call__\n",
      "    return self.func(*args)\n",
      "  File \"C:\\Users\\Admin\\AppData\\Local\\Temp\\ipykernel_8928\\2030835156.py\", line 45, in summarize_news\n",
      "    summary_ids = model.generate(input_ids['input_ids'].to('cuda'))\n",
      "  File \"C:\\Users\\Admin\\anaconda31\\lib\\site-packages\\torch\\cuda\\__init__.py\", line 239, in _lazy_init\n",
      "    raise AssertionError(\"Torch not compiled with CUDA enabled\")\n",
      "AssertionError: Torch not compiled with CUDA enabled\n",
      "Exception in Tkinter callback\n",
      "Traceback (most recent call last):\n",
      "  File \"C:\\Users\\Admin\\anaconda31\\lib\\tkinter\\__init__.py\", line 1921, in __call__\n",
      "    return self.func(*args)\n",
      "  File \"C:\\Users\\Admin\\AppData\\Local\\Temp\\ipykernel_8928\\2030835156.py\", line 45, in summarize_news\n",
      "    summary_ids = model.generate(input_ids['input_ids'].to('cuda'))\n",
      "  File \"C:\\Users\\Admin\\anaconda31\\lib\\site-packages\\torch\\cuda\\__init__.py\", line 239, in _lazy_init\n",
      "    raise AssertionError(\"Torch not compiled with CUDA enabled\")\n",
      "AssertionError: Torch not compiled with CUDA enabled\n",
      "Exception in Tkinter callback\n",
      "Traceback (most recent call last):\n",
      "  File \"C:\\Users\\Admin\\anaconda31\\lib\\tkinter\\__init__.py\", line 1921, in __call__\n",
      "    return self.func(*args)\n",
      "  File \"C:\\Users\\Admin\\AppData\\Local\\Temp\\ipykernel_8928\\2030835156.py\", line 45, in summarize_news\n",
      "    summary_ids = model.generate(input_ids['input_ids'].to('cuda'))\n",
      "  File \"C:\\Users\\Admin\\anaconda31\\lib\\site-packages\\torch\\cuda\\__init__.py\", line 239, in _lazy_init\n",
      "    raise AssertionError(\"Torch not compiled with CUDA enabled\")\n",
      "AssertionError: Torch not compiled with CUDA enabled\n",
      "Exception in Tkinter callback\n",
      "Traceback (most recent call last):\n",
      "  File \"C:\\Users\\Admin\\anaconda31\\lib\\tkinter\\__init__.py\", line 1921, in __call__\n",
      "    return self.func(*args)\n",
      "  File \"C:\\Users\\Admin\\AppData\\Local\\Temp\\ipykernel_8928\\2030835156.py\", line 45, in summarize_news\n",
      "    summary_ids = model.generate(input_ids['input_ids'].to('cuda'))\n",
      "  File \"C:\\Users\\Admin\\anaconda31\\lib\\site-packages\\torch\\cuda\\__init__.py\", line 239, in _lazy_init\n",
      "    raise AssertionError(\"Torch not compiled with CUDA enabled\")\n",
      "AssertionError: Torch not compiled with CUDA enabled\n",
      "Exception in Tkinter callback\n",
      "Traceback (most recent call last):\n",
      "  File \"C:\\Users\\Admin\\anaconda31\\lib\\tkinter\\__init__.py\", line 1921, in __call__\n",
      "    return self.func(*args)\n",
      "  File \"C:\\Users\\Admin\\AppData\\Local\\Temp\\ipykernel_8928\\2030835156.py\", line 45, in summarize_news\n",
      "    summary_ids = model.generate(input_ids['input_ids'].to('cuda'))\n",
      "  File \"C:\\Users\\Admin\\anaconda31\\lib\\site-packages\\torch\\cuda\\__init__.py\", line 239, in _lazy_init\n",
      "    raise AssertionError(\"Torch not compiled with CUDA enabled\")\n",
      "AssertionError: Torch not compiled with CUDA enabled\n"
     ]
    }
   ],
   "source": [
    "import tkinter as tk\n",
    "from tkinter import ttk\n",
    "from tkinter import scrolledtext\n",
    "from tkinter import messagebox\n",
    "import requests\n",
    "from bs4 import BeautifulSoup\n",
    "from transformers import BartForConditionalGeneration, AutoTokenizer\n",
    "\n",
    "model_ckpt = \"sshleifer/distilbart-cnn-6-6\"\n",
    "tokenizer = AutoTokenizer.from_pretrained(model_ckpt)\n",
    "model = BartForConditionalGeneration.from_pretrained(model_ckpt)\n",
    "\n",
    "def summarize_news():\n",
    "    # Get the URLs from the user input\n",
    "    urls = ['https://inshorts.com/en/read/technology',\n",
    "             'https://inshorts.com/en/read/sports',\n",
    "             'https://inshorts.com/en/read/world']\n",
    "    \n",
    "    # Build the news dataset\n",
    "    news_data = []\n",
    "    for url in urls:\n",
    "        news_category = url.split('/')[-1]\n",
    "        data = requests.get(url)\n",
    "        soup = BeautifulSoup(data.content, 'html.parser')\n",
    "        \n",
    "        news_articles = [{'news_headline': headline.find('span', \n",
    "                                                         attrs={\"itemprop\": \"headline\"}).string,\n",
    "                          'news_article': article.find('div', \n",
    "                                                       attrs={\"itemprop\": \"articleBody\"}).string,\n",
    "                          'news_category': news_category}\n",
    "                         \n",
    "                            for headline, article in \n",
    "                             zip(soup.find_all('div', \n",
    "                                               class_=[\"news-card-title news-right-box\"]),\n",
    "                                 soup.find_all('div', \n",
    "                                               class_=[\"news-card-content news-right-box\"]))\n",
    "                        ]\n",
    "        news_data.extend(news_articles)\n",
    "        \n",
    "    # Generate the news summaries\n",
    "    news_summaries = []\n",
    "    for article in news_data:\n",
    "        input_text = article['news_article']\n",
    "        input_ids = tokenizer(input_text, max_length=1024, truncation=True, padding='max_length', return_tensors='pt')\n",
    "        summary_ids = model.generate(input_ids['input_ids'].to('cuda'))\n",
    "        summary_text = tokenizer.decode(summary_ids[0], skip_special_tokens=True)\n",
    "        news_summaries.append(summary_text)\n",
    "    \n",
    "    # Display the news summaries in the GUI\n",
    "    output_text.configure(state='normal')\n",
    "    output_text.delete('1.0', 'end')\n",
    "    for i in range(len(news_data)):\n",
    "        output_text.insert('end', f\"{i+1}. {news_data[i]['news_headline']}\\n\")\n",
    "        output_text.insert('end', f\"Category: {news_data[i]['news_category']}\\n\")\n",
    "        output_text.insert('end', f\"Summary: {news_summaries[i]}\\n\\n\")\n",
    "    output_text.configure(state='disabled')\n",
    "    \n",
    "# Create the GUI window\n",
    "window = tk.Tk()\n",
    "window.title(\"News Summarizer\")\n",
    "\n",
    "# Create the URL input field\n",
    "url_label = ttk.Label(window, text=\"Enter URLs (one per line):\")\n",
    "url_label.grid(column=0, row=0, padx=5, pady=5)\n",
    "url_input = scrolledtext.ScrolledText(window, width=50, height=5)\n",
    "url_input.grid(column=0, row=1, padx=5, pady=5)\n",
    "\n",
    "# Create the Summarize button\n",
    "summarize_button = ttk.Button(window, text=\"Summarize\", command=summarize_news)\n",
    "summarize_button.grid(column=0, row=2, padx=5, pady=5)\n",
    "window.mainloop()\n"
   ]
  },
  {
   "cell_type": "code",
   "execution_count": null,
   "id": "7a88c896",
   "metadata": {},
   "outputs": [],
   "source": [
    "if _name_ == '_main_':\n",
    "    app.run()"
   ]
  },
  {
   "cell_type": "code",
   "execution_count": null,
   "id": "d2721930",
   "metadata": {},
   "outputs": [],
   "source": [
    "import requests\n",
    "import streamlit as st\n",
    "from transformers import BartTokenizer, BartForConditionalGeneration\n",
    "\n",
    "# Fetch the latest news from Inshorts API\n",
    "response = requests.get('https://inshorts.com/api/news')\n",
    "news = response.json()\n",
    "\n",
    "# Select a random news article from the fetched data\n",
    "article = news['data'][0]\n",
    "\n",
    "# Extract the headline and content from the article\n",
    "headline = article['title']\n",
    "content = article['content']\n",
    "\n",
    "# Summarize the content using BART tokenizer\n",
    "tokenizer = BartTokenizer.from_pretrained('facebook/bart-large-cnn')\n",
    "model = BartForConditionalGeneration.from_pretrained('facebook/bart-large-cnn')\n",
    "input_ids = tokenizer.encode(content, return_tensors='pt')\n",
    "summary_ids = model.generate(input_ids, max_length=120, num_beams=4, early_stopping=True)\n",
    "summary = tokenizer.decode(summary_ids[0], skip_special_tokens=True)\n",
    "\n",
    "# Display the headline and summary in the Streamlit app\n",
    "st.write('# ' + headline)\n",
    "st.write(summary)\n"
   ]
  },
  {
   "cell_type": "code",
   "execution_count": null,
   "id": "4c527706",
   "metadata": {},
   "outputs": [],
   "source": []
  }
 ],
 "metadata": {
  "kernelspec": {
   "display_name": "Python 3 (ipykernel)",
   "language": "python",
   "name": "python3"
  },
  "language_info": {
   "codemirror_mode": {
    "name": "ipython",
    "version": 3
   },
   "file_extension": ".py",
   "mimetype": "text/x-python",
   "name": "python",
   "nbconvert_exporter": "python",
   "pygments_lexer": "ipython3",
   "version": "3.9.12"
  }
 },
 "nbformat": 4,
 "nbformat_minor": 5
}
